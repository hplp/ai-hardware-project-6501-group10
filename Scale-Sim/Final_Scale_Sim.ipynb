{
  "nbformat": 4,
  "nbformat_minor": 0,
  "metadata": {
    "colab": {
      "provenance": []
    },
    "kernelspec": {
      "name": "python3",
      "display_name": "Python 3"
    },
    "language_info": {
      "name": "python"
    }
  },
  "cells": [
    {
      "cell_type": "code",
      "execution_count": 1,
      "metadata": {
        "colab": {
          "base_uri": "https://localhost:8080/"
        },
        "id": "Z7ay3BC778Sl",
        "outputId": "e81a1240-fcaf-451d-8c13-f1705715083e"
      },
      "outputs": [
        {
          "output_type": "stream",
          "name": "stdout",
          "text": [
            "Requirement already satisfied: scalesim in /usr/local/lib/python3.10/dist-packages (2.0.2)\n",
            "Requirement already satisfied: numpy in /usr/local/lib/python3.10/dist-packages (from scalesim) (1.26.4)\n",
            "Requirement already satisfied: configparser in /usr/local/lib/python3.10/dist-packages (from scalesim) (7.1.0)\n",
            "Requirement already satisfied: absl-py in /usr/local/lib/python3.10/dist-packages (from scalesim) (1.4.0)\n",
            "Requirement already satisfied: tqdm in /usr/local/lib/python3.10/dist-packages (from scalesim) (4.66.6)\n",
            "Requirement already satisfied: pandas in /usr/local/lib/python3.10/dist-packages (from scalesim) (2.2.2)\n",
            "Requirement already satisfied: python-dateutil>=2.8.2 in /usr/local/lib/python3.10/dist-packages (from pandas->scalesim) (2.8.2)\n",
            "Requirement already satisfied: pytz>=2020.1 in /usr/local/lib/python3.10/dist-packages (from pandas->scalesim) (2024.2)\n",
            "Requirement already satisfied: tzdata>=2022.7 in /usr/local/lib/python3.10/dist-packages (from pandas->scalesim) (2024.2)\n",
            "Requirement already satisfied: six>=1.5 in /usr/local/lib/python3.10/dist-packages (from python-dateutil>=2.8.2->pandas->scalesim) (1.16.0)\n"
          ]
        }
      ],
      "source": [
        "!pip install scalesim"
      ]
    },
    {
      "cell_type": "code",
      "source": [
        "from scalesim.scale_sim import scalesim\n",
        "\n",
        "\n",
        "config_lenet =\"lenet_confi.cfg\"\n",
        "topo_lenet =\"lenet_corrected.csv\"\n",
        "\n",
        "config_alexnet=\"alexnet_confi.cfg\"\n",
        "topo_alexnet =\"alexnet.csv\"\n",
        "\n",
        "config_efficentnet = \"efficientnet_confi.cfg\"\n",
        "topo_efficentnet = \"efficientnet_corrected.csv\"\n",
        "\n",
        "\n",
        "top2 = \"lenet_run2\"\n",
        "top3 = \"alexnet_run2\"\n",
        "top4= \"efficentnet_run2\"\n",
        "\n",
        "s1 = scalesim(save_disk_space=False, verbose=True,\n",
        "              config=config_lenet,\n",
        "              topology=topo_lenet\n",
        "              )\n",
        "s2 = scalesim(save_disk_space=False, verbose=True,\n",
        "              config=config_alexnet,\n",
        "              topology=topo_alexnet\n",
        "              )\n",
        "\n",
        "s3 = scalesim(save_disk_space=False, verbose=True,\n",
        "              config=config_efficentnet,\n",
        "              topology=topo_efficentnet\n",
        "              )\n",
        "\n",
        "s1.run_scale(top_path=top2)\n",
        "s2.run_scale(top_path=top3)\n",
        "s3.run_scale(top_path=top4)\n",
        "\n",
        "\n",
        "\n"
      ],
      "metadata": {
        "colab": {
          "base_uri": "https://localhost:8080/"
        },
        "id": "RHgg6K9v8n3r",
        "outputId": "98825f41-30da-4c59-d593-8332c3ad4c8f"
      },
      "execution_count": 3,
      "outputs": [
        {
          "output_type": "stream",
          "name": "stdout",
          "text": [
            "====================================================\n",
            "******************* SCALE SIM **********************\n",
            "====================================================\n",
            "Array Size: \t8x8\n",
            "SRAM IFMAP (kB): \t256\n",
            "SRAM Filter (kB): \t256\n",
            "SRAM OFMAP (kB): \t256\n",
            "Dataflow: \tWeight Stationary\n",
            "CSV file path: \tlenet_corrected.csv\n",
            "Working in ESTIMATE BANDWIDTH mode.\n",
            "====================================================\n",
            "\n",
            "Running Layer 0\n"
          ]
        },
        {
          "output_type": "stream",
          "name": "stderr",
          "text": [
            "100%|██████████| 2392/2392 [00:00<00:00, 7852.85it/s]\n"
          ]
        },
        {
          "output_type": "stream",
          "name": "stdout",
          "text": [
            "Compute cycles: 2391\n",
            "Stall cycles: 0\n",
            "Overall utilization: 56.46%\n",
            "Mapping efficiency: 58.59%\n",
            "Average IFMAP DRAM BW: 2.981 words/cycle\n",
            "Average Filter DRAM BW: 0.570 words/cycle\n",
            "Average OFMAP DRAM BW: 8.000 words/cycle\n",
            "Saving traces: Done!\n",
            "\n",
            "Running Layer 1\n"
          ]
        },
        {
          "output_type": "stream",
          "name": "stderr",
          "text": [
            "100%|██████████| 3268/3268 [00:00<00:00, 8106.12it/s]\n"
          ]
        },
        {
          "output_type": "stream",
          "name": "stdout",
          "text": [
            "Compute cycles: 3267\n",
            "Stall cycles: 0\n",
            "Overall utilization: 73.46%\n",
            "Mapping efficiency: 98.68%\n",
            "Average IFMAP DRAM BW: 3.285 words/cycle\n",
            "Average Filter DRAM BW: 9.125 words/cycle\n",
            "Average OFMAP DRAM BW: 8.000 words/cycle\n",
            "Saving traces: Done!\n",
            "\n",
            "Running Layer 2\n"
          ]
        },
        {
          "output_type": "stream",
          "name": "stderr",
          "text": [
            "100%|██████████| 11040/11040 [00:00<00:00, 11314.68it/s]\n"
          ]
        },
        {
          "output_type": "stream",
          "name": "stdout",
          "text": [
            "Compute cycles: 11039\n",
            "Stall cycles: 0\n",
            "Overall utilization: 4.35%\n",
            "Mapping efficiency: 100.00%\n",
            "Average IFMAP DRAM BW: 0.973 words/cycle\n",
            "Average Filter DRAM BW: 9.765 words/cycle\n",
            "Average OFMAP DRAM BW: 8.000 words/cycle\n",
            "Saving traces: Done!\n",
            "\n",
            "Running Layer 3\n"
          ]
        },
        {
          "output_type": "stream",
          "name": "stderr",
          "text": [
            "100%|██████████| 3795/3795 [00:00<00:00, 12253.82it/s]\n"
          ]
        },
        {
          "output_type": "stream",
          "name": "stdout",
          "text": [
            "Compute cycles: 3794\n",
            "Stall cycles: 0\n",
            "Overall utilization: 4.15%\n",
            "Mapping efficiency: 95.45%\n",
            "Average IFMAP DRAM BW: 0.456 words/cycle\n",
            "Average Filter DRAM BW: 9.609 words/cycle\n",
            "Average OFMAP DRAM BW: 7.975 words/cycle\n",
            "Saving traces: Done!\n",
            "\n",
            "Running Layer 4\n"
          ]
        },
        {
          "output_type": "stream",
          "name": "stderr",
          "text": [
            "100%|██████████| 506/506 [00:00<00:00, 10789.73it/s]\n"
          ]
        },
        {
          "output_type": "stream",
          "name": "stdout",
          "text": [
            "Compute cycles: 505\n",
            "Stall cycles: 0\n",
            "Overall utilization: 2.60%\n",
            "Mapping efficiency: 59.66%\n",
            "Average IFMAP DRAM BW: 0.319 words/cycle\n",
            "Average Filter DRAM BW: 3.194 words/cycle\n",
            "Average OFMAP DRAM BW: 7.857 words/cycle\n",
            "Saving traces: Done!\n",
            "************ SCALE SIM Run Complete ****************\n",
            "====================================================\n",
            "******************* SCALE SIM **********************\n",
            "====================================================\n",
            "Array Size: \t32x32\n",
            "SRAM IFMAP (kB): \t1024\n",
            "SRAM Filter (kB): \t1024\n",
            "SRAM OFMAP (kB): \t1024\n",
            "Dataflow: \tOutput Stationary\n",
            "CSV file path: \talexnet.csv\n",
            "Working in ESTIMATE BANDWIDTH mode.\n",
            "====================================================\n",
            "\n",
            "Running Layer 0\n"
          ]
        },
        {
          "output_type": "stream",
          "name": "stderr",
          "text": [
            "100%|██████████| 121125/121125 [00:23<00:00, 5113.75it/s]\n"
          ]
        },
        {
          "output_type": "stream",
          "name": "stdout",
          "text": [
            "Compute cycles: 121124\n",
            "Stall cycles: 0\n",
            "Overall utilization: 84.99%\n",
            "Mapping efficiency: 99.51%\n",
            "Average IFMAP DRAM BW: 9.571 words/cycle\n",
            "Average Filter DRAM BW: 8.309 words/cycle\n",
            "Average OFMAP DRAM BW: 32.000 words/cycle\n",
            "Saving traces: Done!\n",
            "\n",
            "Running Layer 1\n"
          ]
        },
        {
          "output_type": "stream",
          "name": "stderr",
          "text": [
            "100%|██████████| 334832/334832 [01:43<00:00, 3237.87it/s]\n"
          ]
        },
        {
          "output_type": "stream",
          "name": "stdout",
          "text": [
            "Compute cycles: 334831\n",
            "Stall cycles: 0\n",
            "Overall utilization: 94.79%\n",
            "Mapping efficiency: 97.24%\n",
            "Average IFMAP DRAM BW: 9.535 words/cycle\n",
            "Average Filter DRAM BW: 2.218 words/cycle\n",
            "Average OFMAP DRAM BW: 32.000 words/cycle\n",
            "Saving traces: Done!\n",
            "\n",
            "Running Layer 2\n"
          ]
        },
        {
          "output_type": "stream",
          "name": "stderr",
          "text": [
            "100%|██████████| 113568/113568 [00:35<00:00, 3156.29it/s]\n"
          ]
        },
        {
          "output_type": "stream",
          "name": "stdout",
          "text": [
            "Compute cycles: 113567\n",
            "Stall cycles: 0\n",
            "Overall utilization: 92.05%\n",
            "Mapping efficiency: 94.53%\n",
            "Average IFMAP DRAM BW: 8.252 words/cycle\n",
            "Average Filter DRAM BW: 7.507 words/cycle\n",
            "Average OFMAP DRAM BW: 32.000 words/cycle\n",
            "Saving traces: Done!\n",
            "\n",
            "Running Layer 3\n"
          ]
        },
        {
          "output_type": "stream",
          "name": "stderr",
          "text": [
            "100%|██████████| 168864/168864 [00:52<00:00, 3202.97it/s]\n"
          ]
        },
        {
          "output_type": "stream",
          "name": "stdout",
          "text": [
            "Compute cycles: 168863\n",
            "Stall cycles: 0\n",
            "Overall utilization: 92.87%\n",
            "Mapping efficiency: 94.53%\n",
            "Average IFMAP DRAM BW: 8.841 words/cycle\n",
            "Average Filter DRAM BW: 8.897 words/cycle\n",
            "Average OFMAP DRAM BW: 32.000 words/cycle\n",
            "Saving traces: Done!\n",
            "\n",
            "Running Layer 4\n"
          ]
        },
        {
          "output_type": "stream",
          "name": "stderr",
          "text": [
            "100%|██████████| 112576/112576 [00:35<00:00, 3170.51it/s]\n"
          ]
        },
        {
          "output_type": "stream",
          "name": "stdout",
          "text": [
            "Compute cycles: 112575\n",
            "Stall cycles: 0\n",
            "Overall utilization: 92.87%\n",
            "Mapping efficiency: 94.53%\n",
            "Average IFMAP DRAM BW: 8.841 words/cycle\n",
            "Average Filter DRAM BW: 8.686 words/cycle\n",
            "Average OFMAP DRAM BW: 32.000 words/cycle\n",
            "Saving traces: Done!\n",
            "************ SCALE SIM Run Complete ****************\n",
            "====================================================\n",
            "******************* SCALE SIM **********************\n",
            "====================================================\n",
            "Array Size: \t32x32\n",
            "SRAM IFMAP (kB): \t2048\n",
            "SRAM Filter (kB): \t2048\n",
            "SRAM OFMAP (kB): \t2048\n",
            "Dataflow: \tInput Stationary\n",
            "CSV file path: \tefficientnet_corrected.csv\n",
            "Working in ESTIMATE BANDWIDTH mode.\n",
            "====================================================\n",
            "\n",
            "Running Layer 0\n"
          ]
        },
        {
          "output_type": "stream",
          "name": "stderr",
          "text": [
            "100%|██████████| 49392/49392 [00:06<00:00, 8061.76it/s]\n"
          ]
        },
        {
          "output_type": "stream",
          "name": "stdout",
          "text": [
            "Compute cycles: 49391\n",
            "Stall cycles: 0\n",
            "Overall utilization: 21.43%\n",
            "Mapping efficiency: 84.38%\n",
            "Average IFMAP DRAM BW: 8.972 words/cycle\n",
            "Average Filter DRAM BW: 0.412 words/cycle\n",
            "Average OFMAP DRAM BW: 32.000 words/cycle\n",
            "Saving traces: Done!\n",
            "\n",
            "Running Layer 1\n"
          ]
        },
        {
          "output_type": "stream",
          "name": "stderr",
          "text": [
            "100%|██████████| 375210/375210 [00:52<00:00, 7126.68it/s]\n"
          ]
        },
        {
          "output_type": "stream",
          "name": "stdout",
          "text": [
            "Compute cycles: 375209\n",
            "Stall cycles: 0\n",
            "Overall utilization: 14.51%\n",
            "Mapping efficiency: 99.77%\n",
            "Average IFMAP DRAM BW: 9.571 words/cycle\n",
            "Average Filter DRAM BW: 2.196 words/cycle\n",
            "Average OFMAP DRAM BW: 10.157 words/cycle\n",
            "Saving traces: Done!\n",
            "\n",
            "Running Layer 2\n"
          ]
        },
        {
          "output_type": "stream",
          "name": "stderr",
          "text": [
            "100%|██████████| 57820/57820 [00:08<00:00, 7010.86it/s]\n"
          ]
        },
        {
          "output_type": "stream",
          "name": "stdout",
          "text": [
            "Compute cycles: 57819\n",
            "Stall cycles: 0\n",
            "Overall utilization: 18.31%\n",
            "Mapping efficiency: 90.00%\n",
            "Average IFMAP DRAM BW: 9.571 words/cycle\n",
            "Average Filter DRAM BW: 1.647 words/cycle\n",
            "Average OFMAP DRAM BW: 32.000 words/cycle\n",
            "Saving traces: Done!\n",
            "\n",
            "Running Layer 3\n"
          ]
        },
        {
          "output_type": "stream",
          "name": "stderr",
          "text": [
            "100%|██████████| 23450/23450 [00:02<00:00, 7907.34it/s]\n"
          ]
        },
        {
          "output_type": "stream",
          "name": "stdout",
          "text": [
            "Compute cycles: 23449\n",
            "Stall cycles: 0\n",
            "Overall utilization: 28.21%\n",
            "Mapping efficiency: 94.50%\n",
            "Average IFMAP DRAM BW: 8.972 words/cycle\n",
            "Average Filter DRAM BW: 4.118 words/cycle\n",
            "Average OFMAP DRAM BW: 32.000 words/cycle\n",
            "Saving traces: Done!\n",
            "\n",
            "Running Layer 4\n"
          ]
        },
        {
          "output_type": "stream",
          "name": "stderr",
          "text": [
            "100%|██████████| 33408/33408 [00:05<00:00, 5911.41it/s]\n"
          ]
        },
        {
          "output_type": "stream",
          "name": "stdout",
          "text": [
            "Compute cycles: 33407\n",
            "Stall cycles: 0\n",
            "Overall utilization: 39.52%\n",
            "Mapping efficiency: 85.96%\n",
            "Average IFMAP DRAM BW: 7.476 words/cycle\n",
            "Average Filter DRAM BW: 9.536 words/cycle\n",
            "Average OFMAP DRAM BW: 32.000 words/cycle\n",
            "Saving traces: Done!\n",
            "\n",
            "Running Layer 5\n"
          ]
        },
        {
          "output_type": "stream",
          "name": "stderr",
          "text": [
            "100%|██████████| 51912/51912 [00:10<00:00, 5136.67it/s]\n"
          ]
        },
        {
          "output_type": "stream",
          "name": "stdout",
          "text": [
            "Compute cycles: 51911\n",
            "Stall cycles: 0\n",
            "Overall utilization: 42.14%\n",
            "Mapping efficiency: 77.50%\n",
            "Average IFMAP DRAM BW: 7.474 words/cycle\n",
            "Average Filter DRAM BW: 9.710 words/cycle\n",
            "Average OFMAP DRAM BW: 32.000 words/cycle\n",
            "Saving traces: Done!\n",
            "\n",
            "Running Layer 6\n"
          ]
        },
        {
          "output_type": "stream",
          "name": "stderr",
          "text": [
            "100%|██████████| 50336/50336 [00:11<00:00, 4566.70it/s]\n"
          ]
        },
        {
          "output_type": "stream",
          "name": "stdout",
          "text": [
            "Compute cycles: 50335\n",
            "Stall cycles: 0\n",
            "Overall utilization: 37.55%\n",
            "Mapping efficiency: 55.93%\n",
            "Average IFMAP DRAM BW: 5.233 words/cycle\n",
            "Average Filter DRAM BW: 9.860 words/cycle\n",
            "Average OFMAP DRAM BW: 32.000 words/cycle\n",
            "Saving traces: Done!\n",
            "\n",
            "Running Layer 7\n"
          ]
        },
        {
          "output_type": "stream",
          "name": "stderr",
          "text": [
            "100%|██████████| 22356/22356 [00:05<00:00, 4243.58it/s]\n"
          ]
        },
        {
          "output_type": "stream",
          "name": "stdout",
          "text": [
            "Compute cycles: 22355\n",
            "Stall cycles: 0\n",
            "Overall utilization: 60.39%\n",
            "Mapping efficiency: 78.12%\n",
            "Average IFMAP DRAM BW: 4.484 words/cycle\n",
            "Average Filter DRAM BW: 9.766 words/cycle\n",
            "Average OFMAP DRAM BW: 32.000 words/cycle\n",
            "Saving traces: Done!\n",
            "\n",
            "Running Layer 8\n"
          ]
        },
        {
          "output_type": "stream",
          "name": "stderr",
          "text": [
            "100%|██████████| 27480/27480 [00:09<00:00, 2829.40it/s]\n"
          ]
        },
        {
          "output_type": "stream",
          "name": "stdout",
          "text": [
            "Compute cycles: 27479\n",
            "Stall cycles: 0\n",
            "Overall utilization: 71.33%\n",
            "Mapping efficiency: 76.56%\n",
            "Average IFMAP DRAM BW: 7.474 words/cycle\n",
            "Average Filter DRAM BW: 9.766 words/cycle\n",
            "Average OFMAP DRAM BW: 32.000 words/cycle\n",
            "Saving traces: Done!\n",
            "\n",
            "Running Layer 9\n"
          ]
        },
        {
          "output_type": "stream",
          "name": "stderr",
          "text": [
            "100%|██████████| 43760/43760 [00:12<00:00, 3470.83it/s]\n"
          ]
        },
        {
          "output_type": "stream",
          "name": "stdout",
          "text": [
            "Compute cycles: 43759\n",
            "Stall cycles: 0\n",
            "Overall utilization: 2.86%\n",
            "Mapping efficiency: 3.12%\n",
            "Average IFMAP DRAM BW: 0.610 words/cycle\n",
            "Average Filter DRAM BW: 9.101 words/cycle\n",
            "Average OFMAP DRAM BW: 32.000 words/cycle\n",
            "Saving traces: Done!\n",
            "************ SCALE SIM Run Complete ****************\n"
          ]
        }
      ]
    }
  ]
}