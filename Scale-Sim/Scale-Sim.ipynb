{
  "nbformat": 4,
  "nbformat_minor": 0,
  "metadata": {
    "colab": {
      "provenance": []
    },
    "kernelspec": {
      "name": "python3",
      "display_name": "Python 3"
    }
  },
  "cells": [
    {
      "cell_type": "code",
      "metadata": {
        "colab": {
          "base_uri": "https://localhost:8080/"
        },
        "id": "7JC_LwchHCvU",
        "outputId": "1dc5b1aa-6857-4ae1-e56c-f03a24a4a244"
      },
      "source": [
        "!pip install scalesim"
      ],
      "execution_count": 2,
      "outputs": [
        {
          "output_type": "stream",
          "name": "stdout",
          "text": [
            "Requirement already satisfied: scalesim in /usr/local/lib/python3.10/dist-packages (2.0.2)\n",
            "Requirement already satisfied: numpy in /usr/local/lib/python3.10/dist-packages (from scalesim) (1.26.4)\n",
            "Requirement already satisfied: configparser in /usr/local/lib/python3.10/dist-packages (from scalesim) (7.1.0)\n",
            "Requirement already satisfied: absl-py in /usr/local/lib/python3.10/dist-packages (from scalesim) (1.4.0)\n",
            "Requirement already satisfied: tqdm in /usr/local/lib/python3.10/dist-packages (from scalesim) (4.66.6)\n",
            "Requirement already satisfied: pandas in /usr/local/lib/python3.10/dist-packages (from scalesim) (2.2.2)\n",
            "Requirement already satisfied: python-dateutil>=2.8.2 in /usr/local/lib/python3.10/dist-packages (from pandas->scalesim) (2.8.2)\n",
            "Requirement already satisfied: pytz>=2020.1 in /usr/local/lib/python3.10/dist-packages (from pandas->scalesim) (2024.2)\n",
            "Requirement already satisfied: tzdata>=2022.7 in /usr/local/lib/python3.10/dist-packages (from pandas->scalesim) (2024.2)\n",
            "Requirement already satisfied: six>=1.5 in /usr/local/lib/python3.10/dist-packages (from python-dateutil>=2.8.2->pandas->scalesim) (1.16.0)\n"
          ]
        }
      ]
    },
    {
      "cell_type": "code",
      "metadata": {
        "id": "F9_LhAWJHIls"
      },
      "source": [
        "from scalesim.scale_sim import scalesim\n",
        "\n",
        "\n",
        "config_lenet =\"lenet.cfg\"\n",
        "topo_lenet =\"lenet_corrected.csv\"\n",
        "\n",
        "config_alexnet=\"alexnet.cfg\"\n",
        "topo_alexnet =\"alexnet.csv\"\n",
        "\n",
        "config_efficentnet = \"efficientnet.cfg\"\n",
        "topo_efficentnet = \"efficientnet_corrected.csv\"\n"
      ],
      "execution_count": 19,
      "outputs": []
    },
    {
      "cell_type": "code",
      "metadata": {
        "id": "1LaF5TP7IeIq"
      },
      "source": [
        "\n",
        "top2 = \"lenet_run\"\n",
        "top3 = \"alexnet_run\"\n",
        "top4= \"efficentnet_run\"\n",
        "\n",
        "s1 = scalesim(save_disk_space=False, verbose=True,\n",
        "              config=config_lenet,\n",
        "              topology=topo_lenet\n",
        "              )\n",
        "s2 = scalesim(save_disk_space=False, verbose=True,\n",
        "              config=config_alexnet,\n",
        "              topology=topo_alexnet\n",
        "              )\n",
        "\n",
        "s3 = scalesim(save_disk_space=False, verbose=True,\n",
        "              config=config_efficentnet,\n",
        "              topology=topo_efficentnet\n",
        "              )\n"
      ],
      "execution_count": 20,
      "outputs": []
    },
    {
      "cell_type": "code",
      "metadata": {
        "colab": {
          "base_uri": "https://localhost:8080/"
        },
        "id": "fIMP7-27PODo",
        "outputId": "80af9983-0ca8-475a-914c-b3b8cec05d59"
      },
      "source": [
        "s1.run_scale(top_path=top2)\n",
        "s2.run_scale(top_path=top3)\n",
        "s3.run_scale(top_path=top4)"
      ],
      "execution_count": 21,
      "outputs": [
        {
          "output_type": "stream",
          "name": "stdout",
          "text": [
            "====================================================\n",
            "******************* SCALE SIM **********************\n",
            "====================================================\n",
            "Array Size: \t32x32\n",
            "SRAM IFMAP (kB): \t512\n",
            "SRAM Filter (kB): \t512\n",
            "SRAM OFMAP (kB): \t256\n",
            "Dataflow: \tWeight Stationary\n",
            "CSV file path: \tlenet_corrected.csv\n",
            "Working in ESTIMATE BANDWIDTH mode.\n",
            "====================================================\n",
            "\n",
            "Running Layer 0\n"
          ]
        },
        {
          "output_type": "stream",
          "name": "stderr",
          "text": [
            "100%|██████████| 670/670 [00:00<00:00, 9129.72it/s]\n"
          ]
        },
        {
          "output_type": "stream",
          "name": "stdout",
          "text": [
            "Compute cycles: 669\n",
            "Stall cycles: 0\n",
            "Overall utilization: 12.61%\n",
            "Mapping efficiency: 14.65%\n",
            "Average IFMAP DRAM BW: 1.493 words/cycle\n",
            "Average Filter DRAM BW: 0.286 words/cycle\n",
            "Average OFMAP DRAM BW: 32.000 words/cycle\n",
            "Saving traces: Done!\n",
            "\n",
            "Running Layer 1\n"
          ]
        },
        {
          "output_type": "stream",
          "name": "stderr",
          "text": [
            "100%|██████████| 790/790 [00:00<00:00, 8605.29it/s]\n"
          ]
        },
        {
          "output_type": "stream",
          "name": "stdout",
          "text": [
            "Compute cycles: 789\n",
            "Stall cycles: 0\n",
            "Overall utilization: 19.01%\n",
            "Mapping efficiency: 46.88%\n",
            "Average IFMAP DRAM BW: 1.646 words/cycle\n",
            "Average Filter DRAM BW: 4.571 words/cycle\n",
            "Average OFMAP DRAM BW: 32.000 words/cycle\n",
            "Saving traces: Done!\n",
            "\n",
            "Running Layer 2\n"
          ]
        },
        {
          "output_type": "stream",
          "name": "stderr",
          "text": [
            "100%|██████████| 3040/3040 [00:00<00:00, 8862.44it/s]\n"
          ]
        },
        {
          "output_type": "stream",
          "name": "stdout",
          "text": [
            "Compute cycles: 3039\n",
            "Stall cycles: 0\n",
            "Overall utilization: 0.99%\n",
            "Mapping efficiency: 93.75%\n",
            "Average IFMAP DRAM BW: 0.488 words/cycle\n",
            "Average Filter DRAM BW: 9.765 words/cycle\n",
            "Average OFMAP DRAM BW: 32.000 words/cycle\n",
            "Saving traces: Done!\n",
            "\n",
            "Running Layer 3\n"
          ]
        },
        {
          "output_type": "stream",
          "name": "stderr",
          "text": [
            "100%|██████████| 1140/1140 [00:00<00:00, 10043.03it/s]\n"
          ]
        },
        {
          "output_type": "stream",
          "name": "stdout",
          "text": [
            "Compute cycles: 1139\n",
            "Stall cycles: 0\n",
            "Overall utilization: 0.86%\n",
            "Mapping efficiency: 82.03%\n",
            "Average IFMAP DRAM BW: 0.229 words/cycle\n",
            "Average Filter DRAM BW: 9.609 words/cycle\n",
            "Average OFMAP DRAM BW: 30.545 words/cycle\n",
            "Saving traces: Done!\n",
            "\n",
            "Running Layer 4\n"
          ]
        },
        {
          "output_type": "stream",
          "name": "stderr",
          "text": [
            "100%|██████████| 285/285 [00:00<00:00, 10034.22it/s]\n"
          ]
        },
        {
          "output_type": "stream",
          "name": "stdout",
          "text": [
            "Compute cycles: 284\n",
            "Stall cycles: 0\n",
            "Overall utilization: 0.29%\n",
            "Mapping efficiency: 27.34%\n",
            "Average IFMAP DRAM BW: 0.160 words/cycle\n",
            "Average Filter DRAM BW: 1.600 words/cycle\n",
            "Average OFMAP DRAM BW: 30.000 words/cycle\n",
            "Saving traces: Done!\n",
            "************ SCALE SIM Run Complete ****************\n",
            "====================================================\n",
            "******************* SCALE SIM **********************\n",
            "====================================================\n",
            "Array Size: \t128x128\n",
            "SRAM IFMAP (kB): \t8192\n",
            "SRAM Filter (kB): \t8192\n",
            "SRAM OFMAP (kB): \t4096\n",
            "Dataflow: \tWeight Stationary\n",
            "CSV file path: \talexnet.csv\n",
            "Working in ESTIMATE BANDWIDTH mode.\n",
            "====================================================\n",
            "\n",
            "Running Layer 0\n"
          ]
        },
        {
          "output_type": "stream",
          "name": "stderr",
          "text": [
            "100%|██████████| 10221/10221 [00:03<00:00, 2636.65it/s]\n"
          ]
        },
        {
          "output_type": "stream",
          "name": "stdout",
          "text": [
            "Compute cycles: 10220\n",
            "Stall cycles: 0\n",
            "Overall utilization: 62.96%\n",
            "Mapping efficiency: 70.90%\n",
            "Average IFMAP DRAM BW: 8.972 words/cycle\n",
            "Average Filter DRAM BW: 4.154 words/cycle\n",
            "Average OFMAP DRAM BW: 127.986 words/cycle\n",
            "Saving traces: Done!\n",
            "\n",
            "Running Layer 1\n"
          ]
        },
        {
          "output_type": "stream",
          "name": "stderr",
          "text": [
            "100%|██████████| 34618/34618 [00:13<00:00, 2654.20it/s]\n"
          ]
        },
        {
          "output_type": "stream",
          "name": "stdout",
          "text": [
            "Compute cycles: 34617\n",
            "Stall cycles: 0\n",
            "Overall utilization: 57.31%\n",
            "Mapping efficiency: 98.68%\n",
            "Average IFMAP DRAM BW: 8.342 words/cycle\n",
            "Average Filter DRAM BW: 9.155 words/cycle\n",
            "Average OFMAP DRAM BW: 253.341 words/cycle\n",
            "Saving traces: Done!\n",
            "\n",
            "Running Layer 2\n"
          ]
        },
        {
          "output_type": "stream",
          "name": "stderr",
          "text": [
            "100%|██████████| 27162/27162 [00:08<00:00, 3084.48it/s]\n"
          ]
        },
        {
          "output_type": "stream",
          "name": "stdout",
          "text": [
            "Compute cycles: 27161\n",
            "Stall cycles: 0\n",
            "Overall utilization: 24.06%\n",
            "Mapping efficiency: 100.00%\n",
            "Average IFMAP DRAM BW: 5.157 words/cycle\n",
            "Average Filter DRAM BW: 9.588 words/cycle\n",
            "Average OFMAP DRAM BW: 128.000 words/cycle\n",
            "Saving traces: Done!\n",
            "\n",
            "Running Layer 3\n"
          ]
        },
        {
          "output_type": "stream",
          "name": "stderr",
          "text": [
            "100%|██████████| 40743/40743 [00:13<00:00, 2936.13it/s]\n"
          ]
        },
        {
          "output_type": "stream",
          "name": "stdout",
          "text": [
            "Compute cycles: 40742\n",
            "Stall cycles: 0\n",
            "Overall utilization: 24.06%\n",
            "Mapping efficiency: 100.00%\n",
            "Average IFMAP DRAM BW: 7.736 words/cycle\n",
            "Average Filter DRAM BW: 9.888 words/cycle\n",
            "Average OFMAP DRAM BW: 128.000 words/cycle\n",
            "Saving traces: Done!\n",
            "\n",
            "Running Layer 4\n"
          ]
        },
        {
          "output_type": "stream",
          "name": "stderr",
          "text": [
            "100%|██████████| 27162/27162 [00:07<00:00, 3422.62it/s]\n"
          ]
        },
        {
          "output_type": "stream",
          "name": "stdout",
          "text": [
            "Compute cycles: 27161\n",
            "Stall cycles: 0\n",
            "Overall utilization: 24.06%\n",
            "Mapping efficiency: 100.00%\n",
            "Average IFMAP DRAM BW: 7.736 words/cycle\n",
            "Average Filter DRAM BW: 9.588 words/cycle\n",
            "Average OFMAP DRAM BW: 128.000 words/cycle\n",
            "Saving traces: Done!\n",
            "************ SCALE SIM Run Complete ****************\n",
            "====================================================\n",
            "******************* SCALE SIM **********************\n",
            "====================================================\n",
            "Array Size: \t256x256\n",
            "SRAM IFMAP (kB): \t16384\n",
            "SRAM Filter (kB): \t16384\n",
            "SRAM OFMAP (kB): \t8192\n",
            "Dataflow: \tWeight Stationary\n",
            "CSV file path: \tefficientnet_corrected.csv\n",
            "Working in ESTIMATE BANDWIDTH mode.\n",
            "====================================================\n",
            "\n",
            "Running Layer 0\n"
          ]
        },
        {
          "output_type": "stream",
          "name": "stderr",
          "text": [
            "100%|██████████| 13310/13310 [00:03<00:00, 3810.80it/s]\n"
          ]
        },
        {
          "output_type": "stream",
          "name": "stdout",
          "text": [
            "Compute cycles: 13309\n",
            "Stall cycles: 0\n",
            "Overall utilization: 1.24%\n",
            "Mapping efficiency: 1.32%\n",
            "Average IFMAP DRAM BW: 8.972 words/cycle\n",
            "Average Filter DRAM BW: 0.051 words/cycle\n",
            "Average OFMAP DRAM BW: 256.000 words/cycle\n",
            "Saving traces: Done!\n",
            "\n",
            "Running Layer 1\n"
          ]
        },
        {
          "output_type": "stream",
          "name": "stderr",
          "text": [
            "100%|██████████| 25732/25732 [00:09<00:00, 2647.28it/s]\n"
          ]
        },
        {
          "output_type": "stream",
          "name": "stdout",
          "text": [
            "Compute cycles: 25731\n",
            "Stall cycles: 0\n",
            "Overall utilization: 3.31%\n",
            "Mapping efficiency: 3.52%\n",
            "Average IFMAP DRAM BW: 7.975 words/cycle\n",
            "Average Filter DRAM BW: 0.275 words/cycle\n",
            "Average OFMAP DRAM BW: 255.915 words/cycle\n",
            "Saving traces: Done!\n",
            "\n",
            "Running Layer 2\n"
          ]
        },
        {
          "output_type": "stream",
          "name": "stderr",
          "text": [
            "100%|██████████| 3902/3902 [00:01<00:00, 3084.58it/s]\n"
          ]
        },
        {
          "output_type": "stream",
          "name": "stdout",
          "text": [
            "Compute cycles: 3901\n",
            "Stall cycles: 0\n",
            "Overall utilization: 4.24%\n",
            "Mapping efficiency: 5.27%\n",
            "Average IFMAP DRAM BW: 5.981 words/cycle\n",
            "Average Filter DRAM BW: 0.206 words/cycle\n",
            "Average OFMAP DRAM BW: 256.000 words/cycle\n",
            "Saving traces: Done!\n",
            "\n",
            "Running Layer 3\n"
          ]
        },
        {
          "output_type": "stream",
          "name": "stderr",
          "text": [
            "100%|██████████| 1550/1550 [00:00<00:00, 3394.80it/s]\n"
          ]
        },
        {
          "output_type": "stream",
          "name": "stdout",
          "text": [
            "Compute cycles: 1549\n",
            "Stall cycles: 0\n",
            "Overall utilization: 6.67%\n",
            "Mapping efficiency: 13.18%\n",
            "Average IFMAP DRAM BW: 4.486 words/cycle\n",
            "Average Filter DRAM BW: 0.515 words/cycle\n",
            "Average OFMAP DRAM BW: 254.959 words/cycle\n",
            "Saving traces: Done!\n",
            "\n",
            "Running Layer 4\n"
          ]
        },
        {
          "output_type": "stream",
          "name": "stderr",
          "text": [
            "100%|██████████| 3740/3740 [00:01<00:00, 2809.67it/s]\n"
          ]
        },
        {
          "output_type": "stream",
          "name": "stdout",
          "text": [
            "Compute cycles: 3739\n",
            "Stall cycles: 0\n",
            "Overall utilization: 5.52%\n",
            "Mapping efficiency: 30.52%\n",
            "Average IFMAP DRAM BW: 1.869 words/cycle\n",
            "Average Filter DRAM BW: 4.768 words/cycle\n",
            "Average OFMAP DRAM BW: 255.094 words/cycle\n",
            "Saving traces: Done!\n",
            "\n",
            "Running Layer 5\n"
          ]
        },
        {
          "output_type": "stream",
          "name": "stderr",
          "text": [
            "100%|██████████| 6928/6928 [00:01<00:00, 3763.51it/s]\n"
          ]
        },
        {
          "output_type": "stream",
          "name": "stdout",
          "text": [
            "Compute cycles: 6927\n",
            "Stall cycles: 0\n",
            "Overall utilization: 4.93%\n",
            "Mapping efficiency: 42.72%\n",
            "Average IFMAP DRAM BW: 0.935 words/cycle\n",
            "Average Filter DRAM BW: 6.676 words/cycle\n",
            "Average OFMAP DRAM BW: 256.000 words/cycle\n",
            "Saving traces: Done!\n",
            "\n",
            "Running Layer 6\n"
          ]
        },
        {
          "output_type": "stream",
          "name": "stderr",
          "text": [
            "100%|██████████| 8822/8822 [00:02<00:00, 3432.97it/s]\n"
          ]
        },
        {
          "output_type": "stream",
          "name": "stdout",
          "text": [
            "Compute cycles: 8821\n",
            "Stall cycles: 0\n",
            "Overall utilization: 3.35%\n",
            "Mapping efficiency: 74.57%\n",
            "Average IFMAP DRAM BW: 1.308 words/cycle\n",
            "Average Filter DRAM BW: 8.011 words/cycle\n",
            "Average OFMAP DRAM BW: 256.000 words/cycle\n",
            "Saving traces: Done!\n",
            "\n",
            "Running Layer 7\n"
          ]
        },
        {
          "output_type": "stream",
          "name": "stderr",
          "text": [
            "100%|██████████| 11074/11074 [00:04<00:00, 2738.44it/s]\n"
          ]
        },
        {
          "output_type": "stream",
          "name": "stdout",
          "text": [
            "Compute cycles: 11073\n",
            "Stall cycles: 0\n",
            "Overall utilization: 1.90%\n",
            "Mapping efficiency: 60.27%\n",
            "Average IFMAP DRAM BW: 0.561 words/cycle\n",
            "Average Filter DRAM BW: 8.240 words/cycle\n",
            "Average OFMAP DRAM BW: 255.708 words/cycle\n",
            "Saving traces: Done!\n",
            "\n",
            "Running Layer 8\n"
          ]
        },
        {
          "output_type": "stream",
          "name": "stderr",
          "text": [
            "100%|██████████| 8150/8150 [00:02<00:00, 3711.79it/s]\n"
          ]
        },
        {
          "output_type": "stream",
          "name": "stdout",
          "text": [
            "Compute cycles: 8149\n",
            "Stall cycles: 0\n",
            "Overall utilization: 3.76%\n",
            "Mapping efficiency: 62.50%\n",
            "Average IFMAP DRAM BW: 0.935 words/cycle\n",
            "Average Filter DRAM BW: 8.138 words/cycle\n",
            "Average OFMAP DRAM BW: 256.000 words/cycle\n",
            "Saving traces: Done!\n",
            "\n",
            "Running Layer 9\n"
          ]
        },
        {
          "output_type": "stream",
          "name": "stderr",
          "text": [
            "100%|██████████| 15340/15340 [00:06<00:00, 2297.30it/s]\n"
          ]
        },
        {
          "output_type": "stream",
          "name": "stdout",
          "text": [
            "Compute cycles: 15339\n",
            "Stall cycles: 0\n",
            "Overall utilization: 0.13%\n",
            "Mapping efficiency: 97.66%\n",
            "Average IFMAP DRAM BW: 0.076 words/cycle\n",
            "Average Filter DRAM BW: 9.537 words/cycle\n",
            "Average OFMAP DRAM BW: 250.000 words/cycle\n",
            "Saving traces: Done!\n",
            "************ SCALE SIM Run Complete ****************\n"
          ]
        }
      ]
    }
  ]
}
