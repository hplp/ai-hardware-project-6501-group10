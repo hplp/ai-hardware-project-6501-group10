{
  "nbformat": 4,
  "nbformat_minor": 0,
  "metadata": {
    "colab": {
      "provenance": [],
      "gpuType": "T4"
    },
    "kernelspec": {
      "name": "python3",
      "display_name": "Python 3"
    },
    "language_info": {
      "name": "python"
    },
    "accelerator": "GPU"
  },
  "cells": [
    {
      "cell_type": "code",
      "source": [
        "import torch\n",
        "import torch.nn as nn\n",
        "import torch.optim as optim\n",
        "import torchvision\n",
        "import torchvision.transforms as transforms\n",
        "from torch.utils.data import DataLoader\n",
        "import os\n",
        "from torch.quantization import quantize_dynamic\n",
        "# Define the transformation\n",
        "transform = transforms.Compose([\n",
        "    transforms.Resize((227, 227)),\n",
        "    transforms.ToTensor(),\n",
        "    transforms.Normalize(mean=(0.5, 0.5, 0.5), std=(0.5, 0.5, 0.5))\n",
        "])\n",
        "\n",
        "# Load CIFAR-10 dataset\n",
        "trainset = torchvision.datasets.CIFAR10(root='./data', train=True, download=True, transform=transform)\n",
        "trainloader = DataLoader(trainset, batch_size=64, shuffle=True, num_workers=4, pin_memory=True)\n",
        "\n",
        "testset = torchvision.datasets.CIFAR10(root='./data', train=False, download=True, transform=transform)\n",
        "testloader = DataLoader(testset, batch_size=64, shuffle=False, num_workers=4, pin_memory=True)\n",
        "\n",
        "# Utility functions\n",
        "def print_size_of_model(model, name=\"Model\"):\n",
        "    \"\"\" Prints the real size of the model \"\"\"\n",
        "    torch.save(model.state_dict(), \"temp.p\")\n",
        "    print(f'Size of {name} (MB): {os.path.getsize(\"temp.p\") / 1e6}')\n",
        "    os.remove('temp.p')\n",
        "\n",
        "def accuracy(output, target):\n",
        "    with torch.no_grad():\n",
        "        batch_size = target.size(0)\n",
        "        _, pred = output.topk(1, 1, True, True)\n",
        "        pred = pred.t()\n",
        "        correct = pred.eq(target.view(1, -1).expand_as(pred))\n",
        "        return correct[:1].view(-1).float().sum(0, keepdim=True).mul_(100.0 / batch_size).item()\n",
        "\n",
        "# Define the AlexNet model\n",
        "class AlexNet(nn.Module):\n",
        "    def __init__(self):\n",
        "        super(AlexNet, self).__init__()\n",
        "        self.features = nn.Sequential(\n",
        "            nn.Conv2d(3, 96, kernel_size=11, stride=4, padding=0),\n",
        "            nn.ReLU(inplace=True),\n",
        "            nn.MaxPool2d(kernel_size=3, stride=2),\n",
        "            nn.BatchNorm2d(96),\n",
        "\n",
        "            nn.Conv2d(96, 256, kernel_size=5, stride=1, padding=2),\n",
        "            nn.ReLU(inplace=True),\n",
        "            nn.MaxPool2d(kernel_size=3, stride=2),\n",
        "            nn.BatchNorm2d(256),\n",
        "\n",
        "            nn.Conv2d(256, 384, kernel_size=3, stride=1, padding=1),\n",
        "            nn.ReLU(inplace=True),\n",
        "            nn.BatchNorm2d(384),\n",
        "\n",
        "            nn.Conv2d(384, 384, kernel_size=3, stride=1, padding=1),\n",
        "            nn.ReLU(inplace=True),\n",
        "            nn.BatchNorm2d(384),\n",
        "\n",
        "            nn.Conv2d(384, 256, kernel_size=3, stride=1, padding=1),\n",
        "            nn.ReLU(inplace=True),\n",
        "            nn.MaxPool2d(kernel_size=3, stride=2),\n",
        "            nn.BatchNorm2d(256)\n",
        "        )\n",
        "        self.classifier = nn.Sequential(\n",
        "            nn.Flatten(),\n",
        "            nn.Linear(256 * 6 * 6, 4096),\n",
        "            nn.ReLU(inplace=True),\n",
        "            nn.Dropout(0.5),\n",
        "            nn.BatchNorm1d(4096),\n",
        "\n",
        "            nn.Linear(4096, 4096),\n",
        "            nn.ReLU(inplace=True),\n",
        "            nn.Dropout(0.5),\n",
        "            nn.BatchNorm1d(4096),\n",
        "\n",
        "            nn.Linear(4096, 10)  # CIFAR-10 has 10 classes\n",
        "        )\n",
        "\n",
        "    def forward(self, x):\n",
        "        x = self.features(x)\n",
        "        x = self.classifier(x)\n",
        "        return x\n",
        "\n"
      ],
      "metadata": {
        "colab": {
          "base_uri": "https://localhost:8080/"
        },
        "id": "bPCAUW1JQrr-",
        "outputId": "6eab568a-44e2-4c35-85d1-58f44ed68cf5"
      },
      "execution_count": null,
      "outputs": [
        {
          "output_type": "stream",
          "name": "stdout",
          "text": [
            "Files already downloaded and verified\n",
            "Files already downloaded and verified\n"
          ]
        }
      ]
    },
    {
      "cell_type": "code",
      "source": [
        "def train(model, trainloader, test_loader=None, num_epochs=10, device='cpu'):\n",
        "\n",
        "    model.to(device)\n",
        "    model.train()  # Set the model to training mode\n",
        "    criterion = nn.CrossEntropyLoss()\n",
        "    optimizer = optim.Adam(model.parameters(), lr=0.001)\n",
        "\n",
        "    for epoch in range(num_epochs):\n",
        "        total_loss = 0.0\n",
        "        correct = 0\n",
        "        total = 0\n",
        "\n",
        "        # Training loop\n",
        "        for images, labels in train_loader:\n",
        "            images, labels = images.to(device), labels.to(device)\n",
        "\n",
        "            optimizer.zero_grad()  # Clear gradients\n",
        "            outputs = model(images)  # Forward pass\n",
        "            loss = criterion(outputs, labels)  # Compute loss\n",
        "            loss.backward()  # Backward pass\n",
        "            optimizer.step()  # Update weights\n",
        "\n",
        "            total_loss += loss.item()\n",
        "            _, preds = torch.max(outputs, 1)\n",
        "            correct += (preds == labels).sum().item()\n",
        "            total += labels.size(0)\n",
        "\n",
        "        # Print training epoch statistics\n",
        "        train_accuracy = 100 * correct / total\n",
        "        print(f\"Epoch [{epoch+1}/{num_epochs}], Loss: {total_loss:.4f}, Training Accuracy: {train_accuracy:.2f}%\")\n",
        "\n",
        "        # Evaluate on test data after each epoch (if test_loader is provided)\n",
        "        if test_loader is not None:\n",
        "            test_accuracy = test(model, test_loader, cuda=(device == 'cuda'))\n",
        "            print(f\"Test Accuracy after Epoch {epoch+1}: {test_accuracy:.2f}%\\n\")\n",
        "\n",
        "    print(\"Training complete.\")\n",
        "\n",
        "def test(model, dataloader, cuda=False):\n",
        "\n",
        "    correct = 0\n",
        "    total = 0\n",
        "    model.eval()  # Set the model to evaluation mode\n",
        "    device = 'cuda' if cuda else 'cpu'\n",
        "    model.to(device)\n",
        "\n",
        "    with torch.no_grad():\n",
        "        for inputs, labels in dataloader:\n",
        "            inputs, labels = inputs.to(device), labels.to(device)\n",
        "            outputs = model(inputs)\n",
        "            _, predicted = torch.max(outputs.data, 1)\n",
        "            total += labels.size(0)\n",
        "            correct += (predicted == labels).sum().item()\n",
        "\n",
        "    accuracy = 100 * correct / total\n",
        "    print(f\"Test Accuracy : {accuracy:.2f}%\\n\")\n",
        "    return accuracy"
      ],
      "metadata": {
        "id": "OFz7-UZVQvS6"
      },
      "execution_count": null,
      "outputs": []
    },
    {
      "cell_type": "code",
      "source": [
        "# Train the AlexNet model\n",
        "train_loader = DataLoader(trainset, batch_size=64, shuffle=True, num_workers=4, pin_memory=True)\n",
        "testloader = DataLoader(testset, batch_size=64, shuffle=False, num_workers=4, pin_memory=True)\n",
        "model = AlexNet()\n",
        "train(model, train_loader, num_epochs=10, device='cuda')\n",
        "test(model, testloader, cuda=True)\n"
      ],
      "metadata": {
        "colab": {
          "base_uri": "https://localhost:8080/"
        },
        "id": "H4LRkPIVQ1sS",
        "outputId": "192e8727-dbda-406f-9aa4-acf3d64d3947"
      },
      "execution_count": null,
      "outputs": [
        {
          "output_type": "stream",
          "name": "stdout",
          "text": [
            "Epoch [1/10], Loss: 1206.0651, Training Accuracy: 47.72%\n",
            "Epoch [2/10], Loss: 828.8183, Training Accuracy: 64.53%\n",
            "Epoch [3/10], Loss: 636.0511, Training Accuracy: 72.88%\n",
            "Epoch [4/10], Loss: 644.7297, Training Accuracy: 72.61%\n",
            "Epoch [5/10], Loss: 614.1888, Training Accuracy: 74.15%\n",
            "Epoch [6/10], Loss: 667.9389, Training Accuracy: 72.05%\n",
            "Epoch [7/10], Loss: 600.1991, Training Accuracy: 74.51%\n",
            "Epoch [8/10], Loss: 576.4717, Training Accuracy: 75.83%\n",
            "Epoch [9/10], Loss: 619.0132, Training Accuracy: 74.10%\n",
            "Epoch [10/10], Loss: 635.8859, Training Accuracy: 73.65%\n",
            "Training complete.\n",
            "Test Accuracy : 74.04%\n",
            "\n"
          ]
        },
        {
          "output_type": "execute_result",
          "data": {
            "text/plain": [
              "74.04"
            ]
          },
          "metadata": {},
          "execution_count": 10
        }
      ]
    },
    {
      "cell_type": "code",
      "source": [
        "def quantize_and_test(model, test_loader, quant_type):\n",
        "\n",
        "    model.cpu()  # Quantization only supports CPU\n",
        "    if quant_type == 'int8':\n",
        "        quantized_model = torch.quantization.quantize_dynamic(model, {nn.Linear}, dtype=torch.qint8)\n",
        "    elif quant_type == 'int16':\n",
        "        quantized_model = torch.quantization.quantize_dynamic(model, {nn.Linear}, dtype=torch.float16)\n",
        "    elif quant_type == 'int4':\n",
        "        print(\"Simulating INT4 using INT8 quantization.\")\n",
        "        quantized_model = torch.quantization.quantize_dynamic(model, {nn.Linear}, dtype=torch.qint8)\n",
        "        for name, param in quantized_model.named_parameters():\n",
        "            param.data = torch.round(param.data * 15) / 15  # Simulate 4-bit quantization\n",
        "    else:\n",
        "        raise ValueError(f\"Unsupported quantization type: {quant_type}\")\n",
        "\n",
        "    # Test the quantized model\n",
        "    quantized_model.eval()\n",
        "    correct = 0\n",
        "    total = 0\n",
        "    with torch.no_grad():\n",
        "        for images, labels in test_loader:\n",
        "            images, labels = images.cpu(), labels.cpu()  # Ensure CPU tensors\n",
        "            outputs = quantized_model(images)\n",
        "            _, preds = torch.max(outputs, 1)\n",
        "            correct += (preds == labels).sum().item()\n",
        "            total += labels.size(0)\n",
        "\n",
        "    accuracy = 100 * correct / total\n",
        "    print(f\"{quant_type.upper()} Quantized Model Accuracy: {accuracy:.2f}%\")\n",
        "    return accuracy"
      ],
      "metadata": {
        "id": "tgkL8cvcdWVm"
      },
      "execution_count": null,
      "outputs": []
    },
    {
      "cell_type": "code",
      "source": [
        "# Quantize and test the model\n",
        "quant_types = ['int8', 'int16']\n",
        "quantized_accuracies = {}\n",
        "for qt in quant_types:\n",
        "    quantized_accuracies[qt] = quantize_and_test(model, testloader, qt)\n",
        "\n",
        "# Print results\n",
        "print(\"\\nQuantization Results:\")\n",
        "for qt, acc in quantized_accuracies.items():\n",
        "    print(f\"{qt.upper()} Accuracy: {acc:.2f}%\")"
      ],
      "metadata": {
        "colab": {
          "base_uri": "https://localhost:8080/"
        },
        "id": "cBeO4gEQSPy-",
        "outputId": "e5a212ef-f885-4e8c-fb4d-c26d845d4b6c"
      },
      "execution_count": null,
      "outputs": [
        {
          "output_type": "stream",
          "name": "stdout",
          "text": [
            "INT8 Quantized Model Accuracy: 65.91%\n",
            "INT16 Quantized Model Accuracy: 74.03%\n",
            "\n",
            "Quantization Results:\n",
            "INT8 Accuracy: 65.91%\n",
            "INT16 Accuracy: 74.03%\n"
          ]
        }
      ]
    }
  ]
}